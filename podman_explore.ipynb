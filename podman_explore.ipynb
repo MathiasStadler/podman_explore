{
 "cells": [
  {
   "cell_type": "markdown",
   "metadata": {},
   "source": [
    "# podman explore\n",
    "## run chrome inside /w xvfb"
   ]
  },
  {
   "cell_type": "code",
   "execution_count": null,
   "metadata": {
    "vscode": {
     "languageId": "shellscript"
    }
   },
   "outputs": [],
   "source": [
    "# podman build container\n",
    "# podman build --tag fedora:myhttpd -f ./Dockerfile"
   ]
  },
  {
   "cell_type": "markdown",
   "metadata": {},
   "source": [
    "podman build --tag dockerfile_chrome_rust_1  --file dockerfile_chrome_rust"
   ]
  },
  {
   "cell_type": "markdown",
   "metadata": {},
   "source": [
    "# podman list images\n",
    "podman images"
   ]
  },
  {
   "cell_type": "markdown",
   "metadata": {},
   "source": [
    "export DISPLAY=:0;\n",
    "xhost +;"
   ]
  },
  {
   "cell_type": "markdown",
   "metadata": {},
   "source": [
    "> podman run --device '/dev/dri':'/dev/dri':rw\n",
    "[FROM HERE](https://github.com/containers/podman/issues/7801#issuecomment-722574489)\n",
    "\n",
    "Any container with GPU-accelearated GUI or X-windows, ie chrome/puppeteer, etc - see x11docker examples listed here too.\n",
    "DRI/Render device needs to be forwarded into container to achieve this, ie:\n",
    "podman run --device '/dev/dri':'/dev/dri':rw ..."
   ]
  }
 ],
 "metadata": {
  "kernelspec": {
   "display_name": "Bash",
   "language": "bash",
   "name": "bash"
  },
  "language_info": {
   "name": "bash"
  }
 },
 "nbformat": 4,
 "nbformat_minor": 2
}
