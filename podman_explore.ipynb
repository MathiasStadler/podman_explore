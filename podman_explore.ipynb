{
 "cells": [
  {
   "cell_type": "markdown",
   "metadata": {},
   "source": [
    "# podman explore\n",
    "## run chrome inside /w xvfb"
   ]
  },
  {
   "cell_type": "code",
   "execution_count": null,
   "metadata": {
    "vscode": {
     "languageId": "shellscript"
    }
   },
   "outputs": [],
   "source": [
    "# podman build container\n",
    "# podman build --tag fedora:myhttpd -f ./Dockerfile"
   ]
  },
  {
   "cell_type": "markdown",
   "metadata": {},
   "source": [
    "podman build --tag dockerfile_chrome_rust_1  --file dockerfile_chrome_rust"
   ]
  },
  {
   "cell_type": "markdown",
   "metadata": {},
   "source": [
    "# podman list images\n",
    "podman images"
   ]
  },
  {
   "cell_type": "markdown",
   "metadata": {},
   "source": [
    "export DISPLAY=:0;\n",
    "xhost +;"
   ]
  },
  {
   "cell_type": "markdown",
   "metadata": {},
   "source": [
    "> podman run --device '/dev/dri':'/dev/dri':rw\n",
    "[FROM HERE](https://github.com/containers/podman/issues/7801#issuecomment-722574489)\n",
    "\n",
    "Any container with GPU-accelearated GUI or X-windows, ie chrome/puppeteer, etc - see x11docker examples listed here too.\n",
    "DRI/Render device needs to be forwarded into container to achieve this, ie:\n",
    "podman run --device '/dev/dri':'/dev/dri':rw ..."
   ]
  },
  {
   "cell_type": "code",
   "execution_count": null,
   "metadata": {
    "vscode": {
     "languageId": "shellscript"
    }
   },
   "outputs": [],
   "source": [
    "podman run --rm -it  -e DISPLAY=:0 -v /tmp/.X11-unix:/tmp/.X11-unix -v /tmp:/tmp:rw --device /dev/dri podman_chrome_rust_1 "
   ]
  },
  {
   "cell_type": "markdown",
   "metadata": {},
   "source": [
    "[FROM HERE](https://raw.githubusercontent.com/jessfraz/dockerfiles/master/chromium/Dockerfile)"
   ]
  },
  {
   "cell_type": "code",
   "execution_count": null,
   "metadata": {
    "vscode": {
     "languageId": "shellscript"
    }
   },
   "outputs": [],
   "source": [
    "#podman_chromium_1:latest\n",
    "docker run -it \\\n",
    "\t--net host \\ # may as well YOLO\n",
    "\t--cpuset-cpus 0 \\ # control the cpu\n",
    "\t--memory 512mb \\ # max memory it can use\n",
    "\t-v /tmp/.X11-unix:/tmp/.X11-unix \\ # mount the X11 socket\n",
    "\t-e DISPLAY=unix$DISPLAY \\\n",
    "\t-v $HOME/Downloads:/home/chromium/Downloads \\\n",
    "\t-v $HOME/.config/chromium/:/data \\ # if you want to save state\n",
    "\t--security-opt seccomp=$HOME/chrome.json \\\n",
    "\t--device /dev/snd \\ # so we have sound\n",
    "\t-v /dev/shm:/dev/shm \\\n",
    "\t--name chromium \\\n",
    "\tlocalhost/podman_chromium_1:latest"
   ]
  },
  {
   "cell_type": "code",
   "execution_count": null,
   "metadata": {
    "vscode": {
     "languageId": "shellscript"
    }
   },
   "outputs": [],
   "source": [
    "podman run --rm -it  -e DISPLAY=:0 -v /tmp/.X11-unix:/tmp/.X11-unix -v /tmp:/tmp:rw  --volume /dev/dri/card0:/dev/dri/card0 --systemd=true --volume /run/dbus/system_bus_socket:/run/dbus/system_bus_socket  localhost/podman_chromium_1:latest"
   ]
  },
  {
   "cell_type": "code",
   "execution_count": null,
   "metadata": {
    "vscode": {
     "languageId": "shellscript"
    }
   },
   "outputs": [],
   "source": [
    "export DISPLAY=:0;\n",
    "xhost +;\n",
    "podman run --rm -it \\\n",
    "-e DISPLAY=:0 \\\n",
    "-v /tmp/.X11-unix:/tmp/.X11-unix \\\n",
    "-v /tmp:/tmp:rw \\\n",
    "-v /dev/dri/card0:/dev/dri/card0 \\\n",
    "--systemd=true \\\n",
    "-v /run/dbus/system_bus_socket:/run/dbus/system_bus_socket \\\n",
    "localhost/podman_chromium_1:latest"
   ]
  },
  {
   "cell_type": "markdown",
   "metadata": {},
   "source": []
  },
  {
   "cell_type": "code",
   "execution_count": null,
   "metadata": {
    "vscode": {
     "languageId": "shellscript"
    }
   },
   "outputs": [],
   "source": [
    "podman build --tag dockerfile_bookworm_slim_chrome_1 --file dockerfile_bookworm_slim_chrome"
   ]
  },
  {
   "cell_type": "markdown",
   "metadata": {},
   "source": []
  },
  {
   "cell_type": "code",
   "execution_count": null,
   "metadata": {
    "vscode": {
     "languageId": "shellscript"
    }
   },
   "outputs": [],
   "source": [
    "podman build --tag dockerfile_bookworm_slim_chrome_2 --file dockerfile_bookworm_slim_chrome"
   ]
  },
  {
   "cell_type": "code",
   "execution_count": null,
   "metadata": {
    "vscode": {
     "languageId": "shellscript"
    }
   },
   "outputs": [],
   "source": [
    "export DISPLAY=:0;\n",
    "xhost +;\n",
    "podman run --rm -it \\\n",
    "-e DISPLAY=:0 \\\n",
    "-v /tmp/.X11-unix:/tmp/.X11-unix \\\n",
    "-v /tmp:/tmp:rw \\\n",
    "-v /dev/dri/card0:/dev/dri/card0 \\\n",
    "--systemd=true \\\n",
    "-v /run/dbus/system_bus_socket:/run/dbus/system_bus_socket \\\n",
    "localhost/dockerfile_bookworm_slim_chrome_2"
   ]
  },
  {
   "cell_type": "markdown",
   "metadata": {},
   "source": [
    "# enter shell inside container"
   ]
  },
  {
   "cell_type": "code",
   "execution_count": null,
   "metadata": {
    "vscode": {
     "languageId": "shellscript"
    }
   },
   "outputs": [],
   "source": [
    "# podman exec -it <Container ID> /bin/bash\n",
    "podman exec -it 974cb7d1d934  /bin/bash"
   ]
  }
 ],
 "metadata": {
  "kernelspec": {
   "display_name": "Bash",
   "language": "bash",
   "name": "bash"
  },
  "language_info": {
   "name": "bash"
  }
 },
 "nbformat": 4,
 "nbformat_minor": 2
}
